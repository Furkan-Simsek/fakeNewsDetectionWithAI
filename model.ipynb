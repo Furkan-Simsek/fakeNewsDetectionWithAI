{
  "nbformat": 4,
  "nbformat_minor": 0,
  "metadata": {
    "colab": {
      "provenance": [],
      "gpuType": "T4",
      "authorship_tag": "ABX9TyMP9fKjWMKoCN3cZqWPhUBK",
      "include_colab_link": true
    },
    "kernelspec": {
      "name": "python3",
      "display_name": "Python 3"
    },
    "language_info": {
      "name": "python"
    },
    "accelerator": "GPU"
  },
  "cells": [
    {
      "cell_type": "markdown",
      "metadata": {
        "id": "view-in-github",
        "colab_type": "text"
      },
      "source": [
        "<a href=\"https://colab.research.google.com/github/Furkan-Simsek/fakeNewsDetectionWithAI/blob/main/model.ipynb\" target=\"_parent\"><img src=\"https://colab.research.google.com/assets/colab-badge.svg\" alt=\"Open In Colab\"/></a>"
      ]
    },
    {
      "cell_type": "code",
      "execution_count": null,
      "metadata": {
        "id": "6kxcCPXjBAZW"
      },
      "outputs": [],
      "source": [
        "# Load model directly\n",
        "from transformers import AutoTokenizer, AutoModelForSequenceClassification\n",
        "\n",
        "tokenizer = AutoTokenizer.from_pretrained(\"ProsusAI/finbert\")\n",
        "model = AutoModelForSequenceClassification.from_pretrained(\"ProsusAI/finbert\")"
      ]
    },
    {
      "cell_type": "code",
      "source": [
        "from datasets import load_dataset\n",
        "\n",
        "ds = load_dataset(\"mrm8488/fake-news\")"
      ],
      "metadata": {
        "id": "zoiogXKABfPx"
      },
      "execution_count": null,
      "outputs": []
    },
    {
      "cell_type": "code",
      "source": [
        "# split the dataset into train and test sets\n",
        "train_ds = ds[\"train\"].train_test_split(test_size=0.2, seed=42)[\"train\"]\n",
        "test_ds = ds[\"train\"].train_test_split(test_size=0.2, seed=42)[\"test\"]"
      ],
      "metadata": {
        "id": "U-gt8id7Bk-s"
      },
      "execution_count": null,
      "outputs": []
    },
    {
      "cell_type": "code",
      "source": [
        "from transformers import TrainingArguments\n",
        "\n",
        "training_args = TrainingArguments(\n",
        "    output_dir='./results',\n",
        "    num_train_epochs=3,\n",
        "    per_device_train_batch_size=32,\n",
        "    per_device_eval_batch_size=32,\n",
        "    warmup_steps=500,\n",
        "    weight_decay=0.01,\n",
        "    logging_dir='./logs',\n",
        "    logging_steps=10,\n",
        ")"
      ],
      "metadata": {
        "id": "h11OeMzPBmrg"
      },
      "execution_count": null,
      "outputs": []
    },
    {
      "cell_type": "code",
      "source": [
        "from transformers import Trainer\n",
        "\n",
        "trainer = Trainer(\n",
        "    model=model,\n",
        "    args=training_args,\n",
        "    train_dataset=train_ds,\n",
        "    eval_dataset=test_ds\n",
        ")"
      ],
      "metadata": {
        "id": "d-rP3_doBmlQ"
      },
      "execution_count": null,
      "outputs": []
    },
    {
      "cell_type": "code",
      "source": [
        "def tokenize_function(example):\n",
        "\treturn tokenizer(example[\"text\"], padding=\"max_length\", truncation=True)\n",
        "\n",
        "# Tokenize train and test datasets\n",
        "train_ds_tokenized = train_ds.map(tokenize_function, batched=True)\n",
        "test_ds_tokenized = test_ds.map(tokenize_function, batched=True)\n",
        "\n",
        "# Update trainer to use tokenized datasets\n",
        "trainer.train_dataset = train_ds_tokenized\n",
        "trainer.eval_dataset = test_ds_tokenized\n",
        "\n"
      ],
      "metadata": {
        "id": "lkjK0V1oBq5E"
      },
      "execution_count": null,
      "outputs": []
    },
    {
      "cell_type": "code",
      "source": [
        "import torch\n",
        "torch.cuda.is_available()"
      ],
      "metadata": {
        "id": "qGGvjq9bBt0O"
      },
      "execution_count": null,
      "outputs": []
    },
    {
      "cell_type": "code",
      "source": [
        "import torch\n",
        "\n",
        "if torch.cuda.is_available():\n",
        "    model.to(\"cuda\")\n",
        "\n",
        "trainer.train()"
      ],
      "metadata": {
        "id": "vo7SpNskCCMc"
      },
      "execution_count": null,
      "outputs": []
    },
    {
      "cell_type": "code",
      "source": [
        "from transformers import BertForSequenceClassification, BertTokenizerFast\n",
        "\n",
        "loaded_model = BertForSequenceClassification.from_pretrained(\"results/checkpoint-500\")\n",
        "#loaded_tokenizer = BertTokenizerFast.from_pretrained(\"results/checkpoint-500\")"
      ],
      "metadata": {
        "id": "VhF1c0gwOs-c"
      },
      "execution_count": null,
      "outputs": []
    },
    {
      "cell_type": "code",
      "source": [
        "# test model\n",
        "from transformers import pipeline\n",
        "\n",
        "classifier = pipeline(\"text-classification\", model=loaded_model, tokenizer=tokenizer)\n",
        "\n",
        "text = test_ds[0][\"text\"]\n",
        "result = classifier(text)\n",
        "print(result)"
      ],
      "metadata": {
        "id": "zO3qR-RQO3TD"
      },
      "execution_count": null,
      "outputs": []
    },
    {
      "cell_type": "code",
      "source": [
        "# Evaluate the model\n",
        "evaluation_results = trainer.evaluate()\n",
        "print(evaluation_results)"
      ],
      "metadata": {
        "id": "kqvqd5spPmxO"
      },
      "execution_count": null,
      "outputs": []
    },
    {
      "cell_type": "code",
      "source": [
        "def classify_text(text):\n",
        "  \"\"\"\n",
        "  Classifies the sentiment of a given text using the loaded model and tokenizer.\n",
        "\n",
        "  Args:\n",
        "    text: The input text string to classify.\n",
        "\n",
        "  Returns:\n",
        "    The classification result from the pipeline.\n",
        "  \"\"\"\n",
        "  if 'classifier' not in locals():\n",
        "    print(\"Error: Classifier pipeline not initialized. Please run the cell to create the classifier.\")\n",
        "    return None\n",
        "  result = classifier(text)\n",
        "  return result\n",
        "\n",
        "# Example usage:\n",
        "# third_party_text = \"This is a third party text to classify.\"\n",
        "# classification_result = classify_text(third_party_text)\n",
        "# print(classification_result)"
      ],
      "metadata": {
        "id": "qW2B1f-RV43N"
      },
      "execution_count": null,
      "outputs": []
    },
    {
      "cell_type": "code",
      "source": [
        "text = \"\"\"LONDON, UK – A new report from a group identifying itself as the Global Tech-Wellness Consortium has issued a stark warning to smartphone users worldwide. The report claims that a specific radio frequency, emitted by over 90 percent of modern smartphones, is directly interfering with the human brains ability to enter deep sleep.\n",
        "The lead researcher, a person named Dr. Evelyn Reed, stated in a public broadcast that the frequency, dubbed P-14, disrupts melatonin production. Melatonin is the key hormone that regulates our sleep-wake cycles. Dr. Reed explained that even when the phone is not in use, this signal is active, creating a constant, low-level disturbance in our environment.\n",
        "The consortiums research, released directly on their new website and not yet verified by mainstream scientific bodies, suggests a direct correlation between the rollout of this signal over the past five years and a global increase in reported cases of insomnia, chronic fatigue, and daytime grogginess.\n",
        "Online health communities and influencers are already sharing this information widely. The hashtag #SignalSleepless is trending. One widely shared post urges everyone to switch their phones to airplane mode at night. It reads, The phone companies know about this but are hiding it to protect their profits. You must share this information. It could be the reason you are always tired. Protect your loved ones from this invisible danger.\n",
        "\"\"\""
      ],
      "metadata": {
        "id": "sbcixz4BWpxN"
      },
      "execution_count": null,
      "outputs": []
    },
    {
      "cell_type": "code",
      "source": [
        "classification_result = classify_text(text)\n",
        "print(classification_result)"
      ],
      "metadata": {
        "id": "yd06swiIW4a0"
      },
      "execution_count": null,
      "outputs": []
    },
    {
      "cell_type": "code",
      "source": [
        "from transformers import pipeline\n",
        "\n",
        "classifier = pipeline(\"text-classification\", model=loaded_model, tokenizer=tokenizer)"
      ],
      "metadata": {
        "id": "P0Npv-TQXEZ_"
      },
      "execution_count": null,
      "outputs": []
    },
    {
      "cell_type": "code",
      "metadata": {
        "id": "1154ab69"
      },
      "source": [
        "text = \"\"\"LONDON, UK – A new report from a group identifying itself as the Global Tech-Wellness Consortium has issued a stark warning to smartphone users worldwide. The report claims that a specific radio frequency, emitted by over 90 percent of modern smartphones, is directly interfering with the human brains ability to enter deep sleep.\n",
        "The lead researcher, a person named Dr. Evelyn Reed, stated in a public broadcast that the frequency, dubbed P-14, disrupts melatonin production. Melatonin is the key hormone that regulates our sleep-wake cycles. Dr. Reed explained that even when the phone is not in use, this signal is active, creating a constant, low-level disturbance in our environment.\n",
        "The consortiums research, released directly on their new website and not yet verified by mainstream scientific bodies, suggests a direct correlation between the rollout of this signal over the past five years and a global increase in reported cases of insomnia, chronic fatigue, and daytime grogginess.\n",
        "Online health communities and influencers are already sharing this information widely. The hashtag #SignalSleepless is trending. One widely shared post urges everyone to switch their phones to airplane mode at night. It reads, The phone companies know about this but are hiding it to protect their profits. You must share this information. It could be the reason you are always tired. Protect your loved ones from this invisible danger.\n",
        "\"\"\"\n",
        "\n",
        "classification_result = classify_text(text)\n",
        "print(classification_result)"
      ],
      "execution_count": null,
      "outputs": []
    },
    {
      "cell_type": "code",
      "source": [],
      "metadata": {
        "id": "7qrKLlyVXZdc"
      },
      "execution_count": null,
      "outputs": []
    },
    {
      "cell_type": "code",
      "metadata": {
        "id": "be9716ad"
      },
      "source": [
        "from transformers import pipeline\n",
        "\n",
        "# Initialize the classifier pipeline\n",
        "# Make sure loaded_model and loaded_tokenizer are available from previous cells\n",
        "if 'loaded_model' not in locals() or 'tokenizer' not in locals():\n",
        "    print(\"Error: loaded_model or loaded_tokenizer not found. Please ensure previous cells were run.\")\n",
        "else:\n",
        "    classifier = pipeline(\"text-classification\", model=loaded_model, tokenizer=tokenizer)\n",
        "\n",
        "    # Text to classify\n",
        "    text_to_classify = \"\"\"LONDON, UK – A new report from a group identifying itself as the Global Tech-Wellness Consortium has issued a stark warning to smartphone users worldwide. The report claims that a specific radio frequency, emitted by over 90 percent of modern smartphones, is directly interfering with the human brains ability to enter deep sleep.\n",
        "    The lead researcher, a person named Dr. Evelyn Reed, stated in a public broadcast that the frequency, dubbed P-14, disrupts melatonin production. Melatonin is the key hormone that regulates our sleep-wake cycles. Dr. Reed explained that even when the phone is not in use, this signal is active, creating a constant, low-level disturbance in our environment.\n",
        "    The consortiums research, released directly on their new website and not yet verified by mainstream scientific bodies, suggests a direct correlation between the rollout of this signal over the past five years and a global increase in reported cases of insomnia, chronic fatigue, and daytime grogginess.\n",
        "    Online health communities and influencers are already sharing this information widely. The hashtag #SignalSleepless is trending. One widely shared post urges everyone to switch their phones to airplane mode at night. It reads, The phone companies know about this but are hiding it to protect their profits. You must share this information. It could be the reason you are always tired. Protect your loved ones from this invisible danger.\n",
        "    \"\"\"\n",
        "\n",
        "    # Classify the text\n",
        "    classification_result = classifier(text_to_classify)\n",
        "    print(classification_result)"
      ],
      "execution_count": null,
      "outputs": []
    },
    {
      "cell_type": "code",
      "source": [
        "# Export the model and tokenizer\n",
        "output_dir = \"./exported_model\"\n",
        "loaded_model.save_pretrained(output_dir)\n",
        "tokenizer.save_pretrained(output_dir)\n",
        "print(f\"Model and tokenizer exported to {output_dir}\")"
      ],
      "metadata": {
        "id": "I4G4-ZUKXyBv"
      },
      "execution_count": null,
      "outputs": []
    },
    {
      "cell_type": "code",
      "source": [],
      "metadata": {
        "id": "O_EwYmtjYA5v"
      },
      "execution_count": null,
      "outputs": []
    },
    {
      "cell_type": "code",
      "metadata": {
        "id": "98b448df"
      },
      "source": [
        "!zip -r exported_model.zip exported_model/"
      ],
      "execution_count": null,
      "outputs": []
    },
    {
      "cell_type": "code",
      "source": [
        "import torch\n",
        "\n",
        "# Define the output path for the PyTorch model file\n",
        "output_path = \"./exported_model/pytorch_model.pt\"\n",
        "\n",
        "# Save the model's state dictionary\n",
        "torch.save(loaded_model.state_dict(), output_path)\n",
        "\n",
        "print(f\"Model state dictionary exported to {output_path}\")"
      ],
      "metadata": {
        "id": "UtPEO4sWY-gq"
      },
      "execution_count": null,
      "outputs": []
    }
  ]
}